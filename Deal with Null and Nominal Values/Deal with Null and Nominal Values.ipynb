{
 "cells": [
  {
   "cell_type": "code",
   "execution_count": 1,
   "id": "ca1d5ee9",
   "metadata": {},
   "outputs": [],
   "source": [
    "import pandas as pd\n",
    "import numpy as np"
   ]
  },
  {
   "cell_type": "code",
   "execution_count": 2,
   "id": "788511bb",
   "metadata": {},
   "outputs": [
    {
     "data": {
      "text/html": [
       "<div>\n",
       "<style scoped>\n",
       "    .dataframe tbody tr th:only-of-type {\n",
       "        vertical-align: middle;\n",
       "    }\n",
       "\n",
       "    .dataframe tbody tr th {\n",
       "        vertical-align: top;\n",
       "    }\n",
       "\n",
       "    .dataframe thead th {\n",
       "        text-align: right;\n",
       "    }\n",
       "</style>\n",
       "<table border=\"1\" class=\"dataframe\">\n",
       "  <thead>\n",
       "    <tr style=\"text-align: right;\">\n",
       "      <th></th>\n",
       "      <th>Product Id</th>\n",
       "      <th>Weight (kg)</th>\n",
       "      <th>Length (m)</th>\n",
       "      <th>Width (m)</th>\n",
       "      <th>Height (m)</th>\n",
       "    </tr>\n",
       "  </thead>\n",
       "  <tbody>\n",
       "    <tr>\n",
       "      <th>0</th>\n",
       "      <td>44331</td>\n",
       "      <td>1.025</td>\n",
       "      <td>0.2286</td>\n",
       "      <td>0.1524</td>\n",
       "      <td>0.0508</td>\n",
       "    </tr>\n",
       "    <tr>\n",
       "      <th>1</th>\n",
       "      <td>44352</td>\n",
       "      <td>0.504</td>\n",
       "      <td>0.14</td>\n",
       "      <td>0.04</td>\n",
       "      <td>0.16</td>\n",
       "    </tr>\n",
       "    <tr>\n",
       "      <th>2</th>\n",
       "      <td>44373</td>\n",
       "      <td>0.488</td>\n",
       "      <td>0.105</td>\n",
       "      <td>0.105</td>\n",
       "      <td>0.075</td>\n",
       "    </tr>\n",
       "    <tr>\n",
       "      <th>3</th>\n",
       "      <td>44394</td>\n",
       "      <td>1.0028</td>\n",
       "      <td>0.11</td>\n",
       "      <td>0.11</td>\n",
       "      <td>0.15</td>\n",
       "    </tr>\n",
       "    <tr>\n",
       "      <th>4</th>\n",
       "      <td>44415</td>\n",
       "      <td>0.55</td>\n",
       "      <td>0.13</td>\n",
       "      <td>0.13</td>\n",
       "      <td>0.11</td>\n",
       "    </tr>\n",
       "  </tbody>\n",
       "</table>\n",
       "</div>"
      ],
      "text/plain": [
       "   Product Id Weight (kg) Length (m) Width (m) Height (m)\n",
       "0       44331       1.025     0.2286    0.1524     0.0508\n",
       "1       44352       0.504       0.14      0.04       0.16\n",
       "2       44373       0.488      0.105     0.105      0.075\n",
       "3       44394      1.0028       0.11      0.11       0.15\n",
       "4       44415        0.55       0.13      0.13       0.11"
      ]
     },
     "execution_count": 2,
     "metadata": {},
     "output_type": "execute_result"
    }
   ],
   "source": [
    "df = pd.read_csv(\"Products.csv\")\n",
    "df.head()"
   ]
  },
  {
   "cell_type": "code",
   "execution_count": 3,
   "id": "c297f029",
   "metadata": {},
   "outputs": [
    {
     "data": {
      "text/plain": [
       "Product Id      int64\n",
       "Weight (kg)    object\n",
       "Length (m)     object\n",
       "Width (m)      object\n",
       "Height (m)     object\n",
       "dtype: object"
      ]
     },
     "execution_count": 3,
     "metadata": {},
     "output_type": "execute_result"
    }
   ],
   "source": [
    "df.dtypes"
   ]
  },
  {
   "cell_type": "code",
   "execution_count": 4,
   "id": "0cd83b14",
   "metadata": {},
   "outputs": [
    {
     "data": {
      "text/plain": [
       "Product Id     0\n",
       "Weight (kg)    4\n",
       "Length (m)     5\n",
       "Width (m)      2\n",
       "Height (m)     4\n",
       "dtype: int64"
      ]
     },
     "execution_count": 4,
     "metadata": {},
     "output_type": "execute_result"
    }
   ],
   "source": [
    "df.isna().sum()"
   ]
  },
  {
   "cell_type": "code",
   "execution_count": 5,
   "id": "a62f3abb",
   "metadata": {},
   "outputs": [
    {
     "data": {
      "text/plain": [
       "(3058, 5)"
      ]
     },
     "execution_count": 5,
     "metadata": {},
     "output_type": "execute_result"
    }
   ],
   "source": [
    "df.shape"
   ]
  },
  {
   "cell_type": "code",
   "execution_count": 6,
   "id": "df2edff2",
   "metadata": {},
   "outputs": [
    {
     "data": {
      "text/html": [
       "<div>\n",
       "<style scoped>\n",
       "    .dataframe tbody tr th:only-of-type {\n",
       "        vertical-align: middle;\n",
       "    }\n",
       "\n",
       "    .dataframe tbody tr th {\n",
       "        vertical-align: top;\n",
       "    }\n",
       "\n",
       "    .dataframe thead th {\n",
       "        text-align: right;\n",
       "    }\n",
       "</style>\n",
       "<table border=\"1\" class=\"dataframe\">\n",
       "  <thead>\n",
       "    <tr style=\"text-align: right;\">\n",
       "      <th></th>\n",
       "      <th>Product Id</th>\n",
       "      <th>Weight (kg)</th>\n",
       "      <th>Length (m)</th>\n",
       "      <th>Width (m)</th>\n",
       "      <th>Height (m)</th>\n",
       "    </tr>\n",
       "  </thead>\n",
       "  <tbody>\n",
       "    <tr>\n",
       "      <th>33</th>\n",
       "      <td>45024</td>\n",
       "      <td>NaN</td>\n",
       "      <td>0.1143</td>\n",
       "      <td>0.2286</td>\n",
       "      <td>0.0762</td>\n",
       "    </tr>\n",
       "    <tr>\n",
       "      <th>46</th>\n",
       "      <td>45297</td>\n",
       "      <td>0.022</td>\n",
       "      <td>NaN</td>\n",
       "      <td>0.16</td>\n",
       "      <td>0.07</td>\n",
       "    </tr>\n",
       "    <tr>\n",
       "      <th>94</th>\n",
       "      <td>46305</td>\n",
       "      <td>1.004</td>\n",
       "      <td>0.26</td>\n",
       "      <td>0.19</td>\n",
       "      <td>NaN</td>\n",
       "    </tr>\n",
       "    <tr>\n",
       "      <th>122</th>\n",
       "      <td>46893</td>\n",
       "      <td>NaN</td>\n",
       "      <td>0.16</td>\n",
       "      <td>0.12</td>\n",
       "      <td>0.03</td>\n",
       "    </tr>\n",
       "    <tr>\n",
       "      <th>157</th>\n",
       "      <td>47628</td>\n",
       "      <td>0.144</td>\n",
       "      <td>0.06</td>\n",
       "      <td>0.05</td>\n",
       "      <td>NaN</td>\n",
       "    </tr>\n",
       "    <tr>\n",
       "      <th>188</th>\n",
       "      <td>48279</td>\n",
       "      <td>NaN</td>\n",
       "      <td>0.14</td>\n",
       "      <td>0.09</td>\n",
       "      <td>0.1524</td>\n",
       "    </tr>\n",
       "    <tr>\n",
       "      <th>236</th>\n",
       "      <td>49287</td>\n",
       "      <td>0.278</td>\n",
       "      <td>0.13</td>\n",
       "      <td>NaN</td>\n",
       "      <td>0.13</td>\n",
       "    </tr>\n",
       "    <tr>\n",
       "      <th>284</th>\n",
       "      <td>50295</td>\n",
       "      <td>0</td>\n",
       "      <td>NaN</td>\n",
       "      <td>0</td>\n",
       "      <td>0</td>\n",
       "    </tr>\n",
       "    <tr>\n",
       "      <th>285</th>\n",
       "      <td>50316</td>\n",
       "      <td>0.005</td>\n",
       "      <td>NaN</td>\n",
       "      <td>0.09</td>\n",
       "      <td>0.03</td>\n",
       "    </tr>\n",
       "    <tr>\n",
       "      <th>353</th>\n",
       "      <td>51744</td>\n",
       "      <td>0</td>\n",
       "      <td>NaN</td>\n",
       "      <td>0</td>\n",
       "      <td>0</td>\n",
       "    </tr>\n",
       "    <tr>\n",
       "      <th>381</th>\n",
       "      <td>52332</td>\n",
       "      <td>1.9</td>\n",
       "      <td>0.1</td>\n",
       "      <td>0.1</td>\n",
       "      <td>NaN</td>\n",
       "    </tr>\n",
       "    <tr>\n",
       "      <th>424</th>\n",
       "      <td>53235</td>\n",
       "      <td>NaN</td>\n",
       "      <td>0.08</td>\n",
       "      <td>0.08</td>\n",
       "      <td>0.102</td>\n",
       "    </tr>\n",
       "    <tr>\n",
       "      <th>552</th>\n",
       "      <td>55923</td>\n",
       "      <td>0.012</td>\n",
       "      <td>NaN</td>\n",
       "      <td>0.01</td>\n",
       "      <td>0.02</td>\n",
       "    </tr>\n",
       "    <tr>\n",
       "      <th>614</th>\n",
       "      <td>57225</td>\n",
       "      <td>0.766</td>\n",
       "      <td>0.22</td>\n",
       "      <td>NaN</td>\n",
       "      <td>0.02</td>\n",
       "    </tr>\n",
       "    <tr>\n",
       "      <th>3019</th>\n",
       "      <td>128520</td>\n",
       "      <td>0.454</td>\n",
       "      <td>0.07</td>\n",
       "      <td>0.04</td>\n",
       "      <td>NaN</td>\n",
       "    </tr>\n",
       "  </tbody>\n",
       "</table>\n",
       "</div>"
      ],
      "text/plain": [
       "      Product Id Weight (kg) Length (m) Width (m) Height (m)\n",
       "33         45024         NaN     0.1143    0.2286     0.0762\n",
       "46         45297       0.022        NaN      0.16       0.07\n",
       "94         46305       1.004       0.26      0.19        NaN\n",
       "122        46893         NaN       0.16      0.12       0.03\n",
       "157        47628       0.144       0.06      0.05        NaN\n",
       "188        48279         NaN       0.14      0.09     0.1524\n",
       "236        49287       0.278       0.13       NaN       0.13\n",
       "284        50295           0        NaN         0          0\n",
       "285        50316       0.005        NaN      0.09       0.03\n",
       "353        51744           0        NaN         0          0\n",
       "381        52332         1.9        0.1       0.1        NaN\n",
       "424        53235         NaN       0.08      0.08      0.102\n",
       "552        55923       0.012        NaN      0.01       0.02\n",
       "614        57225       0.766       0.22       NaN       0.02\n",
       "3019      128520       0.454       0.07      0.04        NaN"
      ]
     },
     "execution_count": 6,
     "metadata": {},
     "output_type": "execute_result"
    }
   ],
   "source": [
    "df1 = df[df.isna().any(axis=1)]\n",
    "df1"
   ]
  },
  {
   "cell_type": "markdown",
   "id": "fc99ed7a",
   "metadata": {},
   "source": [
    "## Weight (kg)"
   ]
  },
  {
   "cell_type": "code",
   "execution_count": 7,
   "id": "026af51c",
   "metadata": {},
   "outputs": [],
   "source": [
    "# df['Weight (kg)'] = df['Weight (kg)'].astype(float) \n",
    "# I use this to check the nominal values"
   ]
  },
  {
   "cell_type": "code",
   "execution_count": 8,
   "id": "54b79c27",
   "metadata": {},
   "outputs": [],
   "source": [
    "df['Weight (kg)'] = df['Weight (kg)'].replace(['aa'],np.nan)\n",
    "df['Weight (kg)'] = df['Weight (kg)'].replace([''],np.nan)\n",
    "df['Weight (kg)'] = df['Weight (kg)'].replace(['@'],np.nan)\n",
    "df['Weight (kg)'] = df['Weight (kg)'].replace([')'],np.nan)\n",
    "df['Weight (kg)'] = df['Weight (kg)'].replace(['?'],np.nan)\n",
    "df['Weight (kg)'] = df['Weight (kg)'].replace(['gg'],np.nan)"
   ]
  },
  {
   "cell_type": "code",
   "execution_count": 9,
   "id": "afdbad20",
   "metadata": {},
   "outputs": [],
   "source": [
    "df['Weight (kg)'] = df['Weight (kg)'].astype(float)"
   ]
  },
  {
   "cell_type": "code",
   "execution_count": 10,
   "id": "ef01f78d",
   "metadata": {},
   "outputs": [
    {
     "data": {
      "text/plain": [
       "Product Id       int64\n",
       "Weight (kg)    float64\n",
       "Length (m)      object\n",
       "Width (m)       object\n",
       "Height (m)      object\n",
       "dtype: object"
      ]
     },
     "execution_count": 10,
     "metadata": {},
     "output_type": "execute_result"
    }
   ],
   "source": [
    "df.dtypes"
   ]
  },
  {
   "cell_type": "code",
   "execution_count": 11,
   "id": "c91f23b5",
   "metadata": {},
   "outputs": [
    {
     "data": {
      "text/plain": [
       "Product Id      0\n",
       "Weight (kg)    10\n",
       "Length (m)      5\n",
       "Width (m)       2\n",
       "Height (m)      4\n",
       "dtype: int64"
      ]
     },
     "execution_count": 11,
     "metadata": {},
     "output_type": "execute_result"
    }
   ],
   "source": [
    "df.isna().sum()"
   ]
  },
  {
   "cell_type": "code",
   "execution_count": 12,
   "id": "18b2be25",
   "metadata": {},
   "outputs": [],
   "source": [
    "df['Weight (kg)'].fillna(value=df['Weight (kg)'].mean(), inplace=True)"
   ]
  },
  {
   "cell_type": "code",
   "execution_count": 13,
   "id": "c64b7904",
   "metadata": {},
   "outputs": [
    {
     "data": {
      "text/plain": [
       "Product Id     0\n",
       "Weight (kg)    0\n",
       "Length (m)     5\n",
       "Width (m)      2\n",
       "Height (m)     4\n",
       "dtype: int64"
      ]
     },
     "execution_count": 13,
     "metadata": {},
     "output_type": "execute_result"
    }
   ],
   "source": [
    "df.isna().sum()"
   ]
  },
  {
   "cell_type": "markdown",
   "id": "b27c80bd",
   "metadata": {},
   "source": [
    "## Length (m)"
   ]
  },
  {
   "cell_type": "code",
   "execution_count": 14,
   "id": "41c4bc1c",
   "metadata": {},
   "outputs": [],
   "source": [
    "# df['Length (m)'] = df['Length (m)'].astype(float)\n",
    "# I use this to check the nominal values"
   ]
  },
  {
   "cell_type": "code",
   "execution_count": 15,
   "id": "8b67b090",
   "metadata": {},
   "outputs": [],
   "source": [
    "df['Length (m)'] = df['Length (m)'].replace(['ee'],np.nan)\n",
    "df['Length (m)'] = df['Length (m)'].replace(['gg'],np.nan)\n",
    "df['Length (m)'] = df['Length (m)'].replace(['('],np.nan)\n",
    "df['Length (m)'] = df['Length (m)'].replace(['.'],np.nan)\n",
    "df['Length (m)'] = df['Length (m)'].replace(['['],np.nan)"
   ]
  },
  {
   "cell_type": "code",
   "execution_count": 16,
   "id": "58fea86d",
   "metadata": {},
   "outputs": [],
   "source": [
    "df['Length (m)'] = df['Length (m)'].astype(float)"
   ]
  },
  {
   "cell_type": "code",
   "execution_count": 17,
   "id": "b559d426",
   "metadata": {},
   "outputs": [
    {
     "data": {
      "text/plain": [
       "Product Id       int64\n",
       "Weight (kg)    float64\n",
       "Length (m)     float64\n",
       "Width (m)       object\n",
       "Height (m)      object\n",
       "dtype: object"
      ]
     },
     "execution_count": 17,
     "metadata": {},
     "output_type": "execute_result"
    }
   ],
   "source": [
    "df.dtypes"
   ]
  },
  {
   "cell_type": "code",
   "execution_count": 18,
   "id": "33a73d4e",
   "metadata": {},
   "outputs": [
    {
     "data": {
      "text/plain": [
       "Product Id      0\n",
       "Weight (kg)     0\n",
       "Length (m)     11\n",
       "Width (m)       2\n",
       "Height (m)      4\n",
       "dtype: int64"
      ]
     },
     "execution_count": 18,
     "metadata": {},
     "output_type": "execute_result"
    }
   ],
   "source": [
    "df.isna().sum()"
   ]
  },
  {
   "cell_type": "code",
   "execution_count": 19,
   "id": "f8358dc7",
   "metadata": {},
   "outputs": [],
   "source": [
    "df['Length (m)'].fillna(value=df['Length (m)'].mean(), inplace=True)"
   ]
  },
  {
   "cell_type": "code",
   "execution_count": 20,
   "id": "ce98a282",
   "metadata": {},
   "outputs": [
    {
     "data": {
      "text/plain": [
       "Product Id     0\n",
       "Weight (kg)    0\n",
       "Length (m)     0\n",
       "Width (m)      2\n",
       "Height (m)     4\n",
       "dtype: int64"
      ]
     },
     "execution_count": 20,
     "metadata": {},
     "output_type": "execute_result"
    }
   ],
   "source": [
    "df.isna().sum()"
   ]
  },
  {
   "cell_type": "markdown",
   "id": "4ab9769a",
   "metadata": {},
   "source": [
    "## Width (m)"
   ]
  },
  {
   "cell_type": "code",
   "execution_count": 21,
   "id": "e4923228",
   "metadata": {},
   "outputs": [],
   "source": [
    "# df['Width (m)'] = df['Width (m)'].astype(float)\n",
    "# I use this to check the nominal values"
   ]
  },
  {
   "cell_type": "code",
   "execution_count": 22,
   "id": "ae14841d",
   "metadata": {},
   "outputs": [],
   "source": [
    "df['Width (m)'] = df['Width (m)'].replace(['dd'],np.nan)\n",
    "df['Width (m)'] = df['Width (m)'].replace(['jj'],np.nan)\n",
    "df['Width (m)'] = df['Width (m)'].replace(['!!'],np.nan)\n",
    "df['Width (m)'] = df['Width (m)'].replace(['%'],np.nan)\n",
    "df['Width (m)'] = df['Width (m)'].replace(['^'],np.nan)\n",
    "df['Width (m)'] = df['Width (m)'].replace(['.'],np.nan)\n",
    "df['Width (m)'] = df['Width (m)'].replace(['“'],np.nan)"
   ]
  },
  {
   "cell_type": "code",
   "execution_count": 23,
   "id": "16b9ae25",
   "metadata": {},
   "outputs": [],
   "source": [
    "df['Width (m)'] = df['Width (m)'].astype(float)"
   ]
  },
  {
   "cell_type": "code",
   "execution_count": 24,
   "id": "e16ae70a",
   "metadata": {},
   "outputs": [
    {
     "data": {
      "text/plain": [
       "Product Id       int64\n",
       "Weight (kg)    float64\n",
       "Length (m)     float64\n",
       "Width (m)      float64\n",
       "Height (m)      object\n",
       "dtype: object"
      ]
     },
     "execution_count": 24,
     "metadata": {},
     "output_type": "execute_result"
    }
   ],
   "source": [
    "df.dtypes"
   ]
  },
  {
   "cell_type": "code",
   "execution_count": 25,
   "id": "938ace9b",
   "metadata": {},
   "outputs": [
    {
     "data": {
      "text/plain": [
       "Product Id     0\n",
       "Weight (kg)    0\n",
       "Length (m)     0\n",
       "Width (m)      9\n",
       "Height (m)     4\n",
       "dtype: int64"
      ]
     },
     "execution_count": 25,
     "metadata": {},
     "output_type": "execute_result"
    }
   ],
   "source": [
    "df.isna().sum()"
   ]
  },
  {
   "cell_type": "code",
   "execution_count": 26,
   "id": "4162ffad",
   "metadata": {},
   "outputs": [],
   "source": [
    "df['Width (m)'].fillna(value=df['Width (m)'].mean(), inplace=True)"
   ]
  },
  {
   "cell_type": "code",
   "execution_count": 27,
   "id": "8c525098",
   "metadata": {},
   "outputs": [
    {
     "data": {
      "text/plain": [
       "Product Id     0\n",
       "Weight (kg)    0\n",
       "Length (m)     0\n",
       "Width (m)      0\n",
       "Height (m)     4\n",
       "dtype: int64"
      ]
     },
     "execution_count": 27,
     "metadata": {},
     "output_type": "execute_result"
    }
   ],
   "source": [
    "df.isna().sum()"
   ]
  },
  {
   "cell_type": "markdown",
   "id": "bf97f58e",
   "metadata": {},
   "source": [
    "## Height (m)"
   ]
  },
  {
   "cell_type": "code",
   "execution_count": 28,
   "id": "f6218e2f",
   "metadata": {},
   "outputs": [],
   "source": [
    "# df['Height (m)'] = df['Height (m)'].astype(float)\n",
    "# I use this to check the nominal values"
   ]
  },
  {
   "cell_type": "code",
   "execution_count": 29,
   "id": "770678f5",
   "metadata": {},
   "outputs": [],
   "source": [
    "df['Height (m)'] = df['Height (m)'].replace(['ss'],np.nan)\n",
    "df['Height (m)'] = df['Height (m)'].replace(['&'],np.nan)\n",
    "df['Height (m)'] = df['Height (m)'].replace(['*'],np.nan)\n",
    "df['Height (m)'] = df['Height (m)'].replace(['|'],np.nan)"
   ]
  },
  {
   "cell_type": "code",
   "execution_count": 30,
   "id": "f80f254e",
   "metadata": {},
   "outputs": [],
   "source": [
    "df['Height (m)'] = df['Height (m)'].astype(float)"
   ]
  },
  {
   "cell_type": "code",
   "execution_count": 31,
   "id": "f829d3ec",
   "metadata": {},
   "outputs": [
    {
     "data": {
      "text/plain": [
       "Product Id       int64\n",
       "Weight (kg)    float64\n",
       "Length (m)     float64\n",
       "Width (m)      float64\n",
       "Height (m)     float64\n",
       "dtype: object"
      ]
     },
     "execution_count": 31,
     "metadata": {},
     "output_type": "execute_result"
    }
   ],
   "source": [
    "df.dtypes"
   ]
  },
  {
   "cell_type": "code",
   "execution_count": 32,
   "id": "939fdcd7",
   "metadata": {},
   "outputs": [
    {
     "data": {
      "text/plain": [
       "Product Id     0\n",
       "Weight (kg)    0\n",
       "Length (m)     0\n",
       "Width (m)      0\n",
       "Height (m)     8\n",
       "dtype: int64"
      ]
     },
     "execution_count": 32,
     "metadata": {},
     "output_type": "execute_result"
    }
   ],
   "source": [
    "df.isna().sum()"
   ]
  },
  {
   "cell_type": "code",
   "execution_count": 33,
   "id": "53f6b6a4",
   "metadata": {},
   "outputs": [],
   "source": [
    "df['Height (m)'].fillna(value=df['Height (m)'].mean(), inplace=True)"
   ]
  },
  {
   "cell_type": "code",
   "execution_count": 34,
   "id": "70e4c614",
   "metadata": {},
   "outputs": [
    {
     "data": {
      "text/plain": [
       "Product Id     0\n",
       "Weight (kg)    0\n",
       "Length (m)     0\n",
       "Width (m)      0\n",
       "Height (m)     0\n",
       "dtype: int64"
      ]
     },
     "execution_count": 34,
     "metadata": {},
     "output_type": "execute_result"
    }
   ],
   "source": [
    "df.isna().sum()"
   ]
  },
  {
   "cell_type": "markdown",
   "id": "5f6ca613",
   "metadata": {},
   "source": [
    "<h1><center><b>Thanks!</b></center></h1>"
   ]
  }
 ],
 "metadata": {
  "kernelspec": {
   "display_name": "Python 3",
   "language": "python",
   "name": "python3"
  },
  "language_info": {
   "codemirror_mode": {
    "name": "ipython",
    "version": 3
   },
   "file_extension": ".py",
   "mimetype": "text/x-python",
   "name": "python",
   "nbconvert_exporter": "python",
   "pygments_lexer": "ipython3",
   "version": "3.8.8"
  }
 },
 "nbformat": 4,
 "nbformat_minor": 5
}
